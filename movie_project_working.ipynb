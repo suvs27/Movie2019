{
 "cells": [
  {
   "cell_type": "code",
   "execution_count": 1,
   "metadata": {},
   "outputs": [
    {
     "name": "stdout",
     "output_type": "stream",
     "text": [
      "2.0\n",
      "1.4142135623730951\n",
      "[(-2, -1.414213562373095), (-1, -0.7071067811865475), (0, 0.0), (1, 0.7071067811865475), (2, 1.414213562373095)]\n"
     ]
    }
   ],
   "source": [
    "# Dependencies\n",
    "import json\n",
    "import requests\n",
    "import matplotlib.pyplot as plt\n",
    "import numpy as np # linear algebra\n",
    "import pandas as pd # data processing, CSV file I/O (e.g. pd.read_csv)\n",
    "import seaborn as sns\n",
    "import operator\n",
    "from pprint import pprint\n",
    "import random\n",
    "import scipy\n",
    "import scipy.stats\n",
    "from scipy.stats import linregress, sem, ttest_ind\n",
    "from spread import variance, standard_deviation, zipped_z_scores\n",
    "from stats import mean, median, mode, multi_mode"
   ]
  },
  {
   "cell_type": "code",
   "execution_count": 2,
   "metadata": {
    "scrolled": true
   },
   "outputs": [
    {
     "data": {
      "text/html": [
       "<div>\n",
       "<style scoped>\n",
       "    .dataframe tbody tr th:only-of-type {\n",
       "        vertical-align: middle;\n",
       "    }\n",
       "\n",
       "    .dataframe tbody tr th {\n",
       "        vertical-align: top;\n",
       "    }\n",
       "\n",
       "    .dataframe thead th {\n",
       "        text-align: right;\n",
       "    }\n",
       "</style>\n",
       "<table border=\"1\" class=\"dataframe\">\n",
       "  <thead>\n",
       "    <tr style=\"text-align: right;\">\n",
       "      <th></th>\n",
       "      <th>Title</th>\n",
       "      <th>Year</th>\n",
       "      <th>Rated</th>\n",
       "      <th>Runtime</th>\n",
       "      <th>Genre</th>\n",
       "      <th>Director</th>\n",
       "      <th>Writer</th>\n",
       "      <th>Language</th>\n",
       "      <th>Country</th>\n",
       "      <th>IMDB Rating</th>\n",
       "      <th>Revenue</th>\n",
       "      <th>Budget</th>\n",
       "    </tr>\n",
       "  </thead>\n",
       "  <tbody>\n",
       "    <tr>\n",
       "      <th>0</th>\n",
       "      <td>Avatar</td>\n",
       "      <td>2009</td>\n",
       "      <td>PG-13</td>\n",
       "      <td>162 min</td>\n",
       "      <td>Action, Adventure, Fantasy, Sci-Fi</td>\n",
       "      <td>James Cameron</td>\n",
       "      <td>James Cameron</td>\n",
       "      <td>English, Spanish</td>\n",
       "      <td>UK, USA</td>\n",
       "      <td>7.8</td>\n",
       "      <td>2787965087</td>\n",
       "      <td>237000000</td>\n",
       "    </tr>\n",
       "    <tr>\n",
       "      <th>1</th>\n",
       "      <td>Pirates of the Caribbean: At World's End</td>\n",
       "      <td>2007</td>\n",
       "      <td>PG-13</td>\n",
       "      <td>169 min</td>\n",
       "      <td>Action, Adventure, Fantasy</td>\n",
       "      <td>Gore Verbinski</td>\n",
       "      <td>Ted Elliott, Terry Rossio, Ted Elliott (charac...</td>\n",
       "      <td>Mandarin, English</td>\n",
       "      <td>USA</td>\n",
       "      <td>7.1</td>\n",
       "      <td>961000000</td>\n",
       "      <td>300000000</td>\n",
       "    </tr>\n",
       "    <tr>\n",
       "      <th>2</th>\n",
       "      <td>Spectre</td>\n",
       "      <td>2015</td>\n",
       "      <td>PG-13</td>\n",
       "      <td>148 min</td>\n",
       "      <td>Action, Adventure, Thriller</td>\n",
       "      <td>Sam Mendes</td>\n",
       "      <td>John Logan (screenplay by), Neal Purvis (scree...</td>\n",
       "      <td>English, Spanish, Italian, German, French</td>\n",
       "      <td>UK, USA</td>\n",
       "      <td>6.8</td>\n",
       "      <td>880674609</td>\n",
       "      <td>245000000</td>\n",
       "    </tr>\n",
       "    <tr>\n",
       "      <th>3</th>\n",
       "      <td>The Dark Knight Rises</td>\n",
       "      <td>2012</td>\n",
       "      <td>PG-13</td>\n",
       "      <td>164 min</td>\n",
       "      <td>Action, Thriller</td>\n",
       "      <td>Christopher Nolan</td>\n",
       "      <td>Jonathan Nolan (screenplay), Christopher Nolan...</td>\n",
       "      <td>English, Arabic</td>\n",
       "      <td>UK, USA</td>\n",
       "      <td>8.4</td>\n",
       "      <td>1084939099</td>\n",
       "      <td>250000000</td>\n",
       "    </tr>\n",
       "    <tr>\n",
       "      <th>4</th>\n",
       "      <td>John Carter</td>\n",
       "      <td>2012</td>\n",
       "      <td>PG-13</td>\n",
       "      <td>132 min</td>\n",
       "      <td>Action, Adventure, Sci-Fi</td>\n",
       "      <td>Andrew Stanton</td>\n",
       "      <td>Andrew Stanton (screenplay by), Mark Andrews (...</td>\n",
       "      <td>English</td>\n",
       "      <td>USA</td>\n",
       "      <td>6.6</td>\n",
       "      <td>284139100</td>\n",
       "      <td>260000000</td>\n",
       "    </tr>\n",
       "  </tbody>\n",
       "</table>\n",
       "</div>"
      ],
      "text/plain": [
       "                                      Title  Year  Rated  Runtime  \\\n",
       "0                                    Avatar  2009  PG-13  162 min   \n",
       "1  Pirates of the Caribbean: At World's End  2007  PG-13  169 min   \n",
       "2                                   Spectre  2015  PG-13  148 min   \n",
       "3                     The Dark Knight Rises  2012  PG-13  164 min   \n",
       "4                               John Carter  2012  PG-13  132 min   \n",
       "\n",
       "                                Genre           Director  \\\n",
       "0  Action, Adventure, Fantasy, Sci-Fi      James Cameron   \n",
       "1          Action, Adventure, Fantasy     Gore Verbinski   \n",
       "2         Action, Adventure, Thriller         Sam Mendes   \n",
       "3                    Action, Thriller  Christopher Nolan   \n",
       "4           Action, Adventure, Sci-Fi     Andrew Stanton   \n",
       "\n",
       "                                              Writer  \\\n",
       "0                                      James Cameron   \n",
       "1  Ted Elliott, Terry Rossio, Ted Elliott (charac...   \n",
       "2  John Logan (screenplay by), Neal Purvis (scree...   \n",
       "3  Jonathan Nolan (screenplay), Christopher Nolan...   \n",
       "4  Andrew Stanton (screenplay by), Mark Andrews (...   \n",
       "\n",
       "                                    Language  Country  IMDB Rating  \\\n",
       "0                           English, Spanish  UK, USA          7.8   \n",
       "1                          Mandarin, English      USA          7.1   \n",
       "2  English, Spanish, Italian, German, French  UK, USA          6.8   \n",
       "3                            English, Arabic  UK, USA          8.4   \n",
       "4                                    English      USA          6.6   \n",
       "\n",
       "      Revenue     Budget  \n",
       "0  2787965087  237000000  \n",
       "1   961000000  300000000  \n",
       "2   880674609  245000000  \n",
       "3  1084939099  250000000  \n",
       "4   284139100  260000000  "
      ]
     },
     "execution_count": 2,
     "metadata": {},
     "output_type": "execute_result"
    }
   ],
   "source": [
    "# Original Dataframe used for Revenue, Budget information\n",
    "path = \"tmdb-5000-movie-dataset/moviesapi_clean.csv\"\n",
    "df = pd.read_csv(path)\n",
    "df.head()"
   ]
  },
  {
   "cell_type": "code",
   "execution_count": 3,
   "metadata": {},
   "outputs": [
    {
     "data": {
      "text/plain": [
       "array(['PG-13', 'PG', 'G', 'Not Rated', 'R', 'TV-14', 'Unrated', 'Passed',\n",
       "       'NC-17', nan, 'Approved', 'APPROVED', 'GP', 'M', 'NOT RATED',\n",
       "       'UNRATED', 'TV-G', 'TV-PG', 'TV-MA', 'PASSED', 'M/PG', 'X'],\n",
       "      dtype=object)"
      ]
     },
     "execution_count": 3,
     "metadata": {},
     "output_type": "execute_result"
    }
   ],
   "source": [
    "df[\"Rated\"].unique()"
   ]
  },
  {
   "cell_type": "code",
   "execution_count": 4,
   "metadata": {},
   "outputs": [],
   "source": [
    "#Remove duplicate rated values\n",
    "\n",
    "df.dropna(how='any')\n",
    "df=df.replace({\"Not Rated\": \"Unrated\", \"nan\": \"Unrated\", \"APPROVED\": \"Approved\", \"NOT RATED\": \"Unrated\", \"UNRATED\": \"Unrated\", \"PASSED\": \"Passed\"})\n",
    "df\n",
    "rated_unique_values=df[\"Rated\"].unique()"
   ]
  },
  {
   "cell_type": "code",
   "execution_count": 5,
   "metadata": {},
   "outputs": [
    {
     "data": {
      "text/plain": [
       "4297    2019\n",
       "4228    2018\n",
       "4559    2018\n",
       "4564    2018\n",
       "4391    2018\n",
       "Name: Year, dtype: int64"
      ]
     },
     "execution_count": 5,
     "metadata": {},
     "output_type": "execute_result"
    }
   ],
   "source": [
    "# Movie release dates are between 1916 and 2017\n",
    "\n",
    "df['Year'].sort_values(ascending= False).head(5)"
   ]
  },
  {
   "cell_type": "code",
   "execution_count": 6,
   "metadata": {},
   "outputs": [
    {
     "name": "stdout",
     "output_type": "stream",
     "text": [
      "<class 'pandas.core.frame.DataFrame'>\n",
      "RangeIndex: 4582 entries, 0 to 4581\n",
      "Data columns (total 12 columns):\n",
      "Title          4582 non-null object\n",
      "Year           4582 non-null int64\n",
      "Rated          4497 non-null object\n",
      "Runtime        4582 non-null object\n",
      "Genre          4582 non-null object\n",
      "Director       4576 non-null object\n",
      "Writer         4538 non-null object\n",
      "Language       4575 non-null object\n",
      "Country        4582 non-null object\n",
      "IMDB Rating    4582 non-null float64\n",
      "Revenue        4582 non-null int64\n",
      "Budget         4582 non-null int64\n",
      "dtypes: float64(1), int64(3), object(8)\n",
      "memory usage: 429.6+ KB\n"
     ]
    }
   ],
   "source": [
    "df.info()"
   ]
  },
  {
   "cell_type": "code",
   "execution_count": 7,
   "metadata": {},
   "outputs": [
    {
     "name": "stdout",
     "output_type": "stream",
     "text": [
      "['Mort Nathan', 'Robert Sarkies', 'Thomas Carter', 'Gary Hardwick', 'Shane Dawson']\n",
      "[1, 4, 3, 1, 1]\n"
     ]
    }
   ],
   "source": [
    "#List of 5 random directors and the number of movies they directed\n",
    "\n",
    "random_directors=[]\n",
    "movies_directed=[]\n",
    "for i in range(0,5):\n",
    "    random_directors.append(random.choice(df[\"Director\"]))\n",
    "print(random_directors)\n",
    "for director in random_directors:\n",
    "    movies_directed.append(len(df[df['Director'] == director]))\n",
    "print(movies_directed)"
   ]
  },
  {
   "cell_type": "code",
   "execution_count": 8,
   "metadata": {},
   "outputs": [
    {
     "data": {
      "image/png": "[encoded data removed]",
      "text/plain": [
       "<Figure size 432x288 with 1 Axes>"
      ]
     },
     "metadata": {
      "needs_background": "light"
     },
     "output_type": "display_data"
    },
    {
     "data": {
      "text/plain": [
       "<Figure size 432x288 with 0 Axes>"
      ]
     },
     "metadata": {},
     "output_type": "display_data"
    }
   ],
   "source": [
    "#Directors' movies bar chart using list of random directors\n",
    "\n",
    "x_axis = np.arange(len(movies_directed))\n",
    "plt.bar(x_axis, movies_directed, color='b', alpha=0.75, align=\"center\")\n",
    "tick_locations = [value for value in x_axis]\n",
    "plt.xticks(tick_locations, random_directors, rotation=90)\n",
    "plt.xlim(0, len(x_axis)+1)\n",
    "plt.ylim(0, max(movies_directed)+1)\n",
    "plt.title(\"Comparison of Directors' Work\")\n",
    "plt.xlabel(\"Directors\")\n",
    "plt.ylabel(\"Number of Movies Directed\")\n",
    "plt.savefig(\"Graphs/DirectorBarChart.png\")\n",
    "plt.show()\n",
    "plt.tight_layout()"
   ]
  },
  {
   "cell_type": "code",
   "execution_count": 9,
   "metadata": {},
   "outputs": [
    {
     "data": {
      "text/html": [
       "<div>\n",
       "<style scoped>\n",
       "    .dataframe tbody tr th:only-of-type {\n",
       "        vertical-align: middle;\n",
       "    }\n",
       "\n",
       "    .dataframe tbody tr th {\n",
       "        vertical-align: top;\n",
       "    }\n",
       "\n",
       "    .dataframe thead th {\n",
       "        text-align: right;\n",
       "    }\n",
       "</style>\n",
       "<table border=\"1\" class=\"dataframe\">\n",
       "  <thead>\n",
       "    <tr style=\"text-align: right;\">\n",
       "      <th></th>\n",
       "      <th></th>\n",
       "      <th>Title</th>\n",
       "      <th>Year</th>\n",
       "      <th>Runtime</th>\n",
       "      <th>Director</th>\n",
       "      <th>Writer</th>\n",
       "      <th>Language</th>\n",
       "      <th>Country</th>\n",
       "      <th>IMDB Rating</th>\n",
       "      <th>Revenue</th>\n",
       "      <th>Budget</th>\n",
       "    </tr>\n",
       "    <tr>\n",
       "      <th>Genre</th>\n",
       "      <th>Rated</th>\n",
       "      <th></th>\n",
       "      <th></th>\n",
       "      <th></th>\n",
       "      <th></th>\n",
       "      <th></th>\n",
       "      <th></th>\n",
       "      <th></th>\n",
       "      <th></th>\n",
       "      <th></th>\n",
       "      <th></th>\n",
       "    </tr>\n",
       "  </thead>\n",
       "  <tbody>\n",
       "    <tr>\n",
       "      <th rowspan=\"2\" valign=\"top\">Action</th>\n",
       "      <th>PG-13</th>\n",
       "      <td>1</td>\n",
       "      <td>1</td>\n",
       "      <td>1</td>\n",
       "      <td>1</td>\n",
       "      <td>1</td>\n",
       "      <td>1</td>\n",
       "      <td>1</td>\n",
       "      <td>1</td>\n",
       "      <td>1</td>\n",
       "      <td>1</td>\n",
       "    </tr>\n",
       "    <tr>\n",
       "      <th>R</th>\n",
       "      <td>4</td>\n",
       "      <td>4</td>\n",
       "      <td>4</td>\n",
       "      <td>4</td>\n",
       "      <td>4</td>\n",
       "      <td>4</td>\n",
       "      <td>4</td>\n",
       "      <td>4</td>\n",
       "      <td>4</td>\n",
       "      <td>4</td>\n",
       "    </tr>\n",
       "    <tr>\n",
       "      <th rowspan=\"3\" valign=\"top\">Action, Adventure</th>\n",
       "      <th>PG</th>\n",
       "      <td>2</td>\n",
       "      <td>2</td>\n",
       "      <td>2</td>\n",
       "      <td>2</td>\n",
       "      <td>2</td>\n",
       "      <td>2</td>\n",
       "      <td>2</td>\n",
       "      <td>2</td>\n",
       "      <td>2</td>\n",
       "      <td>2</td>\n",
       "    </tr>\n",
       "    <tr>\n",
       "      <th>PG-13</th>\n",
       "      <td>10</td>\n",
       "      <td>10</td>\n",
       "      <td>10</td>\n",
       "      <td>10</td>\n",
       "      <td>10</td>\n",
       "      <td>10</td>\n",
       "      <td>10</td>\n",
       "      <td>10</td>\n",
       "      <td>10</td>\n",
       "      <td>10</td>\n",
       "    </tr>\n",
       "    <tr>\n",
       "      <th>R</th>\n",
       "      <td>3</td>\n",
       "      <td>3</td>\n",
       "      <td>3</td>\n",
       "      <td>3</td>\n",
       "      <td>3</td>\n",
       "      <td>3</td>\n",
       "      <td>3</td>\n",
       "      <td>3</td>\n",
       "      <td>3</td>\n",
       "      <td>3</td>\n",
       "    </tr>\n",
       "  </tbody>\n",
       "</table>\n",
       "</div>"
      ],
      "text/plain": [
       "                         Title  Year  Runtime  Director  Writer  Language  \\\n",
       "Genre             Rated                                                     \n",
       "Action            PG-13      1     1        1         1       1         1   \n",
       "                  R          4     4        4         4       4         4   \n",
       "Action, Adventure PG         2     2        2         2       2         2   \n",
       "                  PG-13     10    10       10        10      10        10   \n",
       "                  R          3     3        3         3       3         3   \n",
       "\n",
       "                         Country  IMDB Rating  Revenue  Budget  \n",
       "Genre             Rated                                         \n",
       "Action            PG-13        1            1        1       1  \n",
       "                  R            4            4        4       4  \n",
       "Action, Adventure PG           2            2        2       2  \n",
       "                  PG-13       10           10       10      10  \n",
       "                  R            3            3        3       3  "
      ]
     },
     "execution_count": 9,
     "metadata": {},
     "output_type": "execute_result"
    }
   ],
   "source": [
    "#do .loc by genre and then create genre_groups=merged_df[[\"Genre\", \"Rated\"]]. do rated_groups=genre_groups.groupby(\"Rated\")\n",
    "\n",
    "genre_groups=df.groupby(['Genre','Rated'])\n",
    "counted_up=genre_groups.count()\n",
    "counted_up.head()"
   ]
  },
  {
   "cell_type": "code",
   "execution_count": 24,
   "metadata": {},
   "outputs": [
    {
     "data": {
      "image/png": "[encoded data removed]",
      "text/plain": [
       "<Figure size 432x288 with 1 Axes>"
      ]
     },
     "metadata": {},
     "output_type": "display_data"
    },
    {
     "data": {
      "image/png": "[encoded data removed]",
      "text/plain": [
       "<Figure size 432x288 with 1 Axes>"
      ]
     },
     "metadata": {
      "needs_background": "light"
     },
     "output_type": "display_data"
    }
   ],
   "source": [
    "# Pie chart showing viewer rated movies of a specific genre\n",
    "\n",
    "genre_id=\"Action\"\n",
    "one_genre=counted_up.loc[genre_id]\n",
    "rated_list=one_genre.keys()\n",
    "genre_pie=one_genre.plot(kind=\"pie\",y=rated_list,title=(\"Viewer Ratings of \"+genre_id), autopct=\"%1.1f%%\", shadow=True, startangle=140, legend=None)\n",
    "genre_pie.set_ylabel(\"Rated\")\n",
    "plt.show()\n",
    "plt.tight_layout()\n",
    "plt.axis(\"equal\")\n",
    "plt.savefig(\"Graphs/GenreRatedPie.png\")\n",
    "\n",
    "#plt.legend(loc=\"upper right\")"
   ]
  },
  {
   "cell_type": "code",
   "execution_count": 11,
   "metadata": {},
   "outputs": [
    {
     "name": "stdout",
     "output_type": "stream",
     "text": [
      "Mean Budget: 29620515.951767787\n",
      "Median Budget: 15000000.0\n",
      "Mode Budget: (0, 954)\n",
      "Mean Revenue: 84385511.87690964\n",
      "Median Revenue: 20308986.5\n",
      "Mode Revenue: (0, 1324)\n"
     ]
    }
   ],
   "source": [
    "# Mean, median mode of revenue and budgets\n",
    "\n",
    "budget_data= df[\"Budget\"]\n",
    "revenue_data=df[\"Revenue\"]\n",
    "\n",
    "print(f\"Mean Budget: {mean(budget_data)}\")\n",
    "print(f\"Median Budget: {budget_data.median()}\")\n",
    "print(f\"Mode Budget: {mode(budget_data)}\")\n",
    "print(f\"Mean Revenue: {mean(revenue_data)}\")\n",
    "print(f\"Median Revenue: {revenue_data.median()}\")\n",
    "print(f\"Mode Revenue: {mode(revenue_data)}\")"
   ]
  },
  {
   "cell_type": "code",
   "execution_count": 25,
   "metadata": {},
   "outputs": [
    {
     "name": "stdout",
     "output_type": "stream",
     "text": [
      "0       1.793644\n",
      "1       1.964268\n",
      "2       1.815310\n",
      "3       1.828852\n",
      "4       1.855935\n",
      "5       1.850518\n",
      "6       1.855935\n",
      "7       1.910101\n",
      "8       1.828852\n",
      "9       1.828852\n",
      "10      1.883018\n",
      "11      1.693436\n",
      "12      1.693436\n",
      "13      1.842394\n",
      "14      1.761144\n",
      "15      1.761144\n",
      "16      1.747602\n",
      "17      2.180933\n",
      "18      1.761144\n",
      "19      1.828852\n",
      "20      1.734061\n",
      "21      1.693436\n",
      "22      1.828852\n",
      "23      1.639270\n",
      "24      1.712394\n",
      "25      1.693436\n",
      "26      1.828852\n",
      "27      1.717811\n",
      "28      1.558020\n",
      "29      1.693436\n",
      "          ...   \n",
      "4552    1.151773\n",
      "4553    1.151858\n",
      "4554    1.151846\n",
      "4555    1.151846\n",
      "4556    1.151773\n",
      "4557    1.151773\n",
      "4558    1.151773\n",
      "4559    1.151773\n",
      "4560    1.151773\n",
      "4561    1.151773\n",
      "4562    1.151833\n",
      "4563    1.151773\n",
      "4564    1.151773\n",
      "4565    1.151773\n",
      "4566    1.151773\n",
      "4567    1.151773\n",
      "4568    1.151773\n",
      "4569    1.151806\n",
      "4570    1.151773\n",
      "4571    1.151773\n",
      "4572    1.151773\n",
      "4573    1.151827\n",
      "4574    1.151773\n",
      "4575    1.151792\n",
      "4576    1.151773\n",
      "4577    1.152369\n",
      "4578    1.151797\n",
      "4579    1.151773\n",
      "4580    1.151773\n",
      "4581    1.151773\n",
      "Name: Budget, Length: 4582, dtype: float64\n"
     ]
    },
    {
     "data": {
      "image/png": "[encoded data removed]",
      "text/plain": [
       "<Figure size 432x288 with 1 Axes>"
      ]
     },
     "metadata": {
      "needs_background": "light"
     },
     "output_type": "display_data"
    },
    {
     "data": {
      "text/plain": [
       "<Figure size 432x288 with 0 Axes>"
      ]
     },
     "metadata": {},
     "output_type": "display_data"
    }
   ],
   "source": [
    "# Budget vs Runtime data\n",
    "\n",
    "list_runtime=[]\n",
    "runtime_hrs=[]\n",
    "budget_tenmils=[]\n",
    "\n",
    "for list_item in df['Runtime']:\n",
    "    list_item=list_item.strip(' min')\n",
    "    list_runtime.append(int(list_item))\n",
    "    \n",
    "for list_item in list_runtime:\n",
    "    list_item= round(list_item/60,2)\n",
    "    runtime_hrs.append(int(list_item))\n",
    "\n",
    "#for budget_item in df[\"Budget\"]:\n",
    "    #budget_item= round(budget_item/10000000, 2)\n",
    "    #budget_tenmils.append(int(budget_item))\n",
    "    \n",
    "x_axis = df[\"Budget\"]\n",
    "y_axis = runtime_hrs\n",
    "(slope, intercept, _, _, _) = linregress(x_axis, y_axis)\n",
    "fit = slope * x_axis + intercept\n",
    "print(fit)\n",
    "fig, ax = plt.subplots()\n",
    "\n",
    "fig.suptitle(\"Budget vs. Runtime\", fontsize=16, fontweight=\"bold\")\n",
    "\n",
    "ax.set_xlim(0, 20)\n",
    "ax.set_ylim(0, 20)\n",
    "\n",
    "ax.set_xlabel(\"Movie Budget (Per Ten Million)\")\n",
    "ax.set_ylabel(\"Runtime (Hrs)\")\n",
    "\n",
    "ax.plot(x_axis, y_axis, linewidth=0, marker='o')\n",
    "ax.plot(x_axis, fit, 'b--')\n",
    "\n",
    "plt.show()\n",
    "plt.savefig(\"Graphs/LinRegress.png\")"
   ]
  },
  {
   "cell_type": "code",
   "execution_count": 26,
   "metadata": {},
   "outputs": [
    {
     "data": {
      "image/png": "[encoded data removed]",
      "text/plain": [
       "<Figure size 432x288 with 1 Axes>"
      ]
     },
     "metadata": {
      "needs_background": "light"
     },
     "output_type": "display_data"
    },
    {
     "data": {
      "text/plain": [
       "<Figure size 432x288 with 0 Axes>"
      ]
     },
     "metadata": {},
     "output_type": "display_data"
    }
   ],
   "source": [
    "#Budget and Revenue t-test\n",
    "\n",
    "budget_data = df[\"Budget\"]\n",
    "budget_means = np.mean(budget_data)\n",
    "budget_sem = sem(budget_data)\n",
    "\n",
    "revenue_data = df[\"Revenue\"]\n",
    "revenue_means = np.mean(revenue_data)\n",
    "revenue_sem = sem(revenue_data)\n",
    "\n",
    "means = [budget_means, revenue_means]\n",
    "sems = [budget_sem, revenue_sem]\n",
    "labels = [\"Budget\", \"Revenue\"]\n",
    "\n",
    "fig, ax = plt.subplots()\n",
    "\n",
    "ax.errorbar(np.arange(0, len(means)), means, yerr=sems, fmt=\"o\")\n",
    "\n",
    "ax.set_xlim(-0.5, 2.5)\n",
    "ax.set_xticklabels(labels)\n",
    "ax.set_xticks([0, 1, 2])\n",
    "\n",
    "ax.set_ylabel(\"Budget and Revenue\")\n",
    "\n",
    "plt.show()\n",
    "plt.savefig(\"Graphs/ttest.png\")"
   ]
  },
  {
   "cell_type": "code",
   "execution_count": 20,
   "metadata": {},
   "outputs": [
    {
     "name": "stdout",
     "output_type": "stream",
     "text": [
      "The difference between budget and revenue is significant.\n",
      "t-statistics is -21.807501844668373.\n",
      "p-value is 6.448488197170402e-101.\n"
     ]
    }
   ],
   "source": [
    "(t_stat, p) = ttest_ind(budget_data, revenue_data, equal_var=False)\n",
    "\n",
    "if p < 0.05:\n",
    "    print(\"The difference between budget and revenue is significant.\")\n",
    "else:\n",
    "    print(\"The difference between budget and revenue is due to chance.\")\n",
    "\n",
    "print(\"t-statistics is {}.\".format(t_stat))\n",
    "print(\"p-value is {}.\".format(p))"
   ]
  },
  {
   "cell_type": "code",
   "execution_count": null,
   "metadata": {},
   "outputs": [],
   "source": []
  }
 ],
 "metadata": {
  "kernelspec": {
   "display_name": "Python 3",
   "language": "python",
   "name": "python3"
  },
  "language_info": {
   "codemirror_mode": {
    "name": "ipython",
    "version": 3
   },
   "file_extension": ".py",
   "mimetype": "text/x-python",
   "name": "python",
   "nbconvert_exporter": "python",
   "pygments_lexer": "ipython3",
   "version": "3.7.3"
  }
 },
 "nbformat": 4,
 "nbformat_minor": 2
}
